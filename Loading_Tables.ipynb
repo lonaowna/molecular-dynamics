{
 "cells": [
  {
   "cell_type": "code",
   "execution_count": 48,
   "metadata": {
    "collapsed": false
   },
   "outputs": [],
   "source": [
    "import numpy\n",
    "import pickle\n",
    "from astropy.table import Table, Column\n",
    "import matplotlib\n",
    "import matplotlib.pyplot as plt\n",
    "import sys\n",
    "sys.path.insert(0, 'C:/Users/Administrator/Google Drive/Computational_Physics/Ludwig_simulations')\n",
    "%matplotlib inline\n",
    "\n",
    "def storvars(vdict):      \n",
    "    f = open('varstor.txt','wb')\n",
    "    pickle.dump(vdict,f,)\n",
    "    f.close()\n",
    "    return\n",
    "\n",
    "def loadvars(name):      \n",
    "    v_dict = pickle.load( open( \"{0}.txt\".format(name), \"rb\" ) )\n",
    "    return v_dict\n",
    "\n"
   ]
  },
  {
   "cell_type": "code",
   "execution_count": 11,
   "metadata": {
    "collapsed": false
   },
   "outputs": [],
   "source": [
    "name = 'var_comp_rho0.9_T0.8'\n",
    "var_dict = loadvars(name)\n"
   ]
  },
  {
   "cell_type": "code",
   "execution_count": 12,
   "metadata": {
    "collapsed": false
   },
   "outputs": [
    {
     "data": {
      "text/html": [
       "&lt;Table masked=False length=35&gt;\n",
       "<table id=\"table130212976\">\n",
       "<thead><tr><th>rho</th><th>Temp</th><th>diff</th><th>cv</th><th>pressure</th><th>Potential</th></tr></thead>\n",
       "<thead><tr><th>float64</th><th>float64</th><th>float64</th><th>float64</th><th>float64</th><th>float64</th></tr></thead>\n",
       "<tr><td>0.3</td><td>0.8</td><td>2.17298688681</td><td>-0.462990711181</td><td>-0.411367599401</td><td>-2.52399061203</td></tr>\n",
       "<tr><td>0.3</td><td>0.8</td><td>2.20443339189</td><td>-0.572525316366</td><td>-0.581976459609</td><td>-2.49292641024</td></tr>\n",
       "<tr><td>0.3</td><td>0.8</td><td>2.20929444163</td><td>-0.401354775968</td><td>-0.05360716502</td><td>-2.55028627915</td></tr>\n",
       "<tr><td>0.3</td><td>0.8</td><td>2.20819644026</td><td>-1.26100719229</td><td>-0.474762525116</td><td>-2.53055664766</td></tr>\n",
       "<tr><td>0.3</td><td>0.8</td><td>2.20901152422</td><td>-0.51699367461</td><td>-0.308507241732</td><td>-2.54472867853</td></tr>\n",
       "<tr><td>0.4</td><td>0.8</td><td>1.82563930657</td><td>-0.760657551988</td><td>-0.628634885633</td><td>-3.20122311541</td></tr>\n",
       "<tr><td>0.4</td><td>0.8</td><td>1.90698826249</td><td>-0.764072694124</td><td>-0.672225131264</td><td>-3.17485303569</td></tr>\n",
       "<tr><td>0.4</td><td>0.8</td><td>1.86475462809</td><td>-0.612049731352</td><td>-0.757737674667</td><td>-3.22903290557</td></tr>\n",
       "<tr><td>0.4</td><td>0.8</td><td>1.85980155574</td><td>-1.63759134288</td><td>-0.485642704839</td><td>-3.18090405037</td></tr>\n",
       "<tr><td>0.4</td><td>0.8</td><td>1.92132122243</td><td>-0.345844234143</td><td>-0.595938630671</td><td>-3.25631369989</td></tr>\n",
       "<tr><td>...</td><td>...</td><td>...</td><td>...</td><td>...</td><td>...</td></tr>\n",
       "<tr><td>0.8</td><td>0.8</td><td>0.872956028496</td><td>2.73556090775</td><td>0.370166571454</td><td>-5.67178142292</td></tr>\n",
       "<tr><td>0.8</td><td>0.8</td><td>0.964773742872</td><td>2.44128000678</td><td>0.0769138834915</td><td>-5.70038112384</td></tr>\n",
       "<tr><td>0.8</td><td>0.8</td><td>0.915823089962</td><td>2.14260422756</td><td>-0.0513560756891</td><td>-5.69907985187</td></tr>\n",
       "<tr><td>0.8</td><td>0.8</td><td>0.90364899654</td><td>2.64571692828</td><td>-0.111628692991</td><td>-5.7095784559</td></tr>\n",
       "<tr><td>0.8</td><td>0.8</td><td>0.883016372271</td><td>2.57763119753</td><td>-0.000758281570332</td><td>-5.69281174962</td></tr>\n",
       "<tr><td>0.9</td><td>0.8</td><td>0.312654252207</td><td>3.82298450331</td><td>0.282060205101</td><td>-6.59720417112</td></tr>\n",
       "<tr><td>0.9</td><td>0.8</td><td>0.319121923004</td><td>5.69426575253</td><td>0.441752035016</td><td>-6.56133413604</td></tr>\n",
       "<tr><td>0.9</td><td>0.8</td><td>0.325629362684</td><td>3.36641407285</td><td>0.196819803077</td><td>-6.570065133</td></tr>\n",
       "<tr><td>0.9</td><td>0.8</td><td>0.288179793735</td><td>2.99651647945</td><td>0.135097230725</td><td>-6.58964982061</td></tr>\n",
       "<tr><td>0.9</td><td>0.8</td><td>0.296476263525</td><td>3.47841787885</td><td>0.0921720127478</td><td>-6.60644142408</td></tr>\n",
       "</table>"
      ],
      "text/plain": [
       "<Table masked=False length=35>\n",
       "  rho     Temp       diff             cv            pressure        Potential   \n",
       "float64 float64    float64         float64          float64          float64    \n",
       "------- ------- -------------- --------------- ------------------ --------------\n",
       "    0.3     0.8  2.17298688681 -0.462990711181    -0.411367599401 -2.52399061203\n",
       "    0.3     0.8  2.20443339189 -0.572525316366    -0.581976459609 -2.49292641024\n",
       "    0.3     0.8  2.20929444163 -0.401354775968     -0.05360716502 -2.55028627915\n",
       "    0.3     0.8  2.20819644026  -1.26100719229    -0.474762525116 -2.53055664766\n",
       "    0.3     0.8  2.20901152422  -0.51699367461    -0.308507241732 -2.54472867853\n",
       "    0.4     0.8  1.82563930657 -0.760657551988    -0.628634885633 -3.20122311541\n",
       "    0.4     0.8  1.90698826249 -0.764072694124    -0.672225131264 -3.17485303569\n",
       "    0.4     0.8  1.86475462809 -0.612049731352    -0.757737674667 -3.22903290557\n",
       "    0.4     0.8  1.85980155574  -1.63759134288    -0.485642704839 -3.18090405037\n",
       "    0.4     0.8  1.92132122243 -0.345844234143    -0.595938630671 -3.25631369989\n",
       "    ...     ...            ...             ...                ...            ...\n",
       "    0.8     0.8 0.872956028496   2.73556090775     0.370166571454 -5.67178142292\n",
       "    0.8     0.8 0.964773742872   2.44128000678    0.0769138834915 -5.70038112384\n",
       "    0.8     0.8 0.915823089962   2.14260422756   -0.0513560756891 -5.69907985187\n",
       "    0.8     0.8  0.90364899654   2.64571692828    -0.111628692991  -5.7095784559\n",
       "    0.8     0.8 0.883016372271   2.57763119753 -0.000758281570332 -5.69281174962\n",
       "    0.9     0.8 0.312654252207   3.82298450331     0.282060205101 -6.59720417112\n",
       "    0.9     0.8 0.319121923004   5.69426575253     0.441752035016 -6.56133413604\n",
       "    0.9     0.8 0.325629362684   3.36641407285     0.196819803077   -6.570065133\n",
       "    0.9     0.8 0.288179793735   2.99651647945     0.135097230725 -6.58964982061\n",
       "    0.9     0.8 0.296476263525   3.47841787885    0.0921720127478 -6.60644142408"
      ]
     },
     "execution_count": 12,
     "metadata": {},
     "output_type": "execute_result"
    }
   ],
   "source": [
    "a = var_dict['rho']\n",
    "b = var_dict['T']\n",
    "c = var_dict['Diff_length']\n",
    "d = var_dict['cv']\n",
    "e = var_dict['Pressure']\n",
    "f = var_dict['U_pot']\n",
    "    \n",
    "t = Table([a, b, c, d, e, f], names=('rho', 'Temp', 'diff', 'cv', 'pressure', 'Potential'))\n",
    "t"
   ]
  },
  {
   "cell_type": "code",
   "execution_count": 58,
   "metadata": {
    "collapsed": false
   },
   "outputs": [
    {
     "name": "stdout",
     "output_type": "stream",
     "text": [
      "0.3\n",
      "0.4\n",
      "0.5\n",
      "0.6\n",
      "0.7\n",
      "0.8\n",
      "0.9\n",
      "(7, 1)\n"
     ]
    }
   ],
   "source": [
    "xaxis = numpy.zeros((7,1))\n",
    "yaxis = numpy.zeros((7,1))\n",
    "\n",
    "for i in range(0,7):\n",
    "    print(a[5*i])\n",
    "    xaxis[i,0] = a[5*i]\n",
    "print(xaxis.shape)"
   ]
  },
  {
   "cell_type": "code",
   "execution_count": 59,
   "metadata": {
    "collapsed": false
   },
   "outputs": [
    {
     "name": "stdout",
     "output_type": "stream",
     "text": [
      "-0.366044198176\n",
      "-0.628035805415\n",
      "-0.891794111511\n",
      "-1.25012833516\n",
      "-1.08719108231\n",
      "0.056667480939\n",
      "0.229580257334\n"
     ]
    }
   ],
   "source": [
    "for i in range(0,7):\n",
    "    print(numpy.mean(e[(5*i):(5+5*i)]))\n",
    "    yaxis[i,0] = numpy.mean(e[(5*i):(5+5*i)])\n"
   ]
  },
  {
   "cell_type": "code",
   "execution_count": 67,
   "metadata": {
    "collapsed": false
   },
   "outputs": [
    {
     "data": {
      "text/plain": [
       "<matplotlib.text.Text at 0x9774710>"
      ]
     },
     "execution_count": 67,
     "metadata": {},
     "output_type": "execute_result"
    },
    {
     "data": {
      "image/png": "[encoded data removed]",
      "text/plain": [
       "<matplotlib.figure.Figure at 0x7ef2ac8>"
      ]
     },
     "metadata": {},
     "output_type": "display_data"
    }
   ],
   "source": [
    "plt.figure(1)\n",
    "plt.plot(xaxis,yaxis, label='pressure')\n",
    "plt.xlabel('Density (rho)')\n",
    "plt.ylabel('Compression factor (P/(kT))')\n",
    "plt.title('Temp=0,8')"
   ]
  },
  {
   "cell_type": "code",
   "execution_count": 63,
   "metadata": {
    "collapsed": true
   },
   "outputs": [],
   "source": [
    "name = 'var_comp_rho0.9_T1.35'\n",
    "var_dict2 = loadvars(name)"
   ]
  },
  {
   "cell_type": "code",
   "execution_count": 64,
   "metadata": {
    "collapsed": false
   },
   "outputs": [
    {
     "data": {
      "text/html": [
       "&lt;Table masked=False length=40&gt;\n",
       "<table id=\"table131083624\">\n",
       "<thead><tr><th>rho</th><th>Temp</th><th>diff</th><th>cv</th><th>pressure</th><th>Potential</th></tr></thead>\n",
       "<thead><tr><th>float64</th><th>float64</th><th>float64</th><th>float64</th><th>float64</th><th>float64</th></tr></thead>\n",
       "<tr><td>0.2</td><td>1.35</td><td>3.91100244947</td><td>2.78595017216</td><td>0.553789019514</td><td>-1.41336716829</td></tr>\n",
       "<tr><td>0.2</td><td>1.35</td><td>3.88098308611</td><td>-63.620226886</td><td>0.489036370716</td><td>-1.41652827177</td></tr>\n",
       "<tr><td>0.2</td><td>1.35</td><td>3.87071022636</td><td>15.7211431978</td><td>0.473740319314</td><td>-1.46399024053</td></tr>\n",
       "<tr><td>0.2</td><td>1.35</td><td>3.88896584268</td><td>2.72771960455</td><td>0.393124184574</td><td>-1.39252407888</td></tr>\n",
       "<tr><td>0.2</td><td>1.35</td><td>3.91909835655</td><td>3.1592382735</td><td>0.486908441276</td><td>-1.38309229284</td></tr>\n",
       "<tr><td>0.3</td><td>1.35</td><td>3.32051598318</td><td>2.71076871414</td><td>0.601771330653</td><td>-2.10744241604</td></tr>\n",
       "<tr><td>0.3</td><td>1.35</td><td>3.30739909164</td><td>1.99946784509</td><td>0.508978271456</td><td>-2.04392834546</td></tr>\n",
       "<tr><td>0.3</td><td>1.35</td><td>3.25718534104</td><td>2.1346002131</td><td>0.441377937201</td><td>-2.08779635061</td></tr>\n",
       "<tr><td>0.3</td><td>1.35</td><td>3.35911318506</td><td>5.07517181649</td><td>0.630946031344</td><td>-2.10071146871</td></tr>\n",
       "<tr><td>0.3</td><td>1.35</td><td>3.27413195153</td><td>2.45183809346</td><td>0.421368474655</td><td>-2.06736834275</td></tr>\n",
       "<tr><td>...</td><td>...</td><td>...</td><td>...</td><td>...</td><td>...</td></tr>\n",
       "<tr><td>0.8</td><td>1.35</td><td>1.34473255918</td><td>2.4999967185</td><td>2.7224617711</td><td>-5.20323263725</td></tr>\n",
       "<tr><td>0.8</td><td>1.35</td><td>1.33495655742</td><td>2.17347404927</td><td>2.15951943739</td><td>-5.21101710107</td></tr>\n",
       "<tr><td>0.8</td><td>1.35</td><td>1.40743199161</td><td>2.41290895953</td><td>2.46651208589</td><td>-5.19739016015</td></tr>\n",
       "<tr><td>0.8</td><td>1.35</td><td>1.44387060083</td><td>2.1513916217</td><td>2.17459064719</td><td>-5.21746462881</td></tr>\n",
       "<tr><td>0.8</td><td>1.35</td><td>1.3636809029</td><td>2.3728156271</td><td>2.64974743435</td><td>-5.18053099266</td></tr>\n",
       "<tr><td>0.9</td><td>1.35</td><td>1.04111100623</td><td>2.38847950223</td><td>4.44829984458</td><td>-5.62377527658</td></tr>\n",
       "<tr><td>0.9</td><td>1.35</td><td>1.09385884454</td><td>2.36800348523</td><td>4.41495266882</td><td>-5.66475965637</td></tr>\n",
       "<tr><td>0.9</td><td>1.35</td><td>1.08207494347</td><td>2.12444050572</td><td>4.55423663605</td><td>-5.64677894631</td></tr>\n",
       "<tr><td>0.9</td><td>1.35</td><td>1.05114499112</td><td>2.47500018604</td><td>4.62700295592</td><td>-5.59288773099</td></tr>\n",
       "<tr><td>0.9</td><td>1.35</td><td>1.06249765913</td><td>2.32582492312</td><td>4.62971933982</td><td>-5.61540492335</td></tr>\n",
       "</table>"
      ],
      "text/plain": [
       "<Table masked=False length=40>\n",
       "  rho     Temp       diff           cv         pressure      Potential   \n",
       "float64 float64    float64       float64       float64        float64    \n",
       "------- ------- ------------- ------------- -------------- --------------\n",
       "    0.2    1.35 3.91100244947 2.78595017216 0.553789019514 -1.41336716829\n",
       "    0.2    1.35 3.88098308611 -63.620226886 0.489036370716 -1.41652827177\n",
       "    0.2    1.35 3.87071022636 15.7211431978 0.473740319314 -1.46399024053\n",
       "    0.2    1.35 3.88896584268 2.72771960455 0.393124184574 -1.39252407888\n",
       "    0.2    1.35 3.91909835655  3.1592382735 0.486908441276 -1.38309229284\n",
       "    0.3    1.35 3.32051598318 2.71076871414 0.601771330653 -2.10744241604\n",
       "    0.3    1.35 3.30739909164 1.99946784509 0.508978271456 -2.04392834546\n",
       "    0.3    1.35 3.25718534104  2.1346002131 0.441377937201 -2.08779635061\n",
       "    0.3    1.35 3.35911318506 5.07517181649 0.630946031344 -2.10071146871\n",
       "    0.3    1.35 3.27413195153 2.45183809346 0.421368474655 -2.06736834275\n",
       "    ...     ...           ...           ...            ...            ...\n",
       "    0.8    1.35 1.34473255918  2.4999967185   2.7224617711 -5.20323263725\n",
       "    0.8    1.35 1.33495655742 2.17347404927  2.15951943739 -5.21101710107\n",
       "    0.8    1.35 1.40743199161 2.41290895953  2.46651208589 -5.19739016015\n",
       "    0.8    1.35 1.44387060083  2.1513916217  2.17459064719 -5.21746462881\n",
       "    0.8    1.35  1.3636809029  2.3728156271  2.64974743435 -5.18053099266\n",
       "    0.9    1.35 1.04111100623 2.38847950223  4.44829984458 -5.62377527658\n",
       "    0.9    1.35 1.09385884454 2.36800348523  4.41495266882 -5.66475965637\n",
       "    0.9    1.35 1.08207494347 2.12444050572  4.55423663605 -5.64677894631\n",
       "    0.9    1.35 1.05114499112 2.47500018604  4.62700295592 -5.59288773099\n",
       "    0.9    1.35 1.06249765913 2.32582492312  4.62971933982 -5.61540492335"
      ]
     },
     "execution_count": 64,
     "metadata": {},
     "output_type": "execute_result"
    }
   ],
   "source": [
    "a2 = var_dict2['rho']\n",
    "b2 = var_dict2['T']\n",
    "c2 = var_dict2['Diff_length']\n",
    "d2 = var_dict2['cv']\n",
    "e2 = var_dict2['Pressure']\n",
    "f2 = var_dict2['U_pot']\n",
    "    \n",
    "t2 = Table([a2, b2, c2, d2, e2, f2], names=('rho', 'Temp', 'diff', 'cv', 'pressure', 'Potential'))\n",
    "t2"
   ]
  },
  {
   "cell_type": "code",
   "execution_count": 69,
   "metadata": {
    "collapsed": false
   },
   "outputs": [
    {
     "name": "stdout",
     "output_type": "stream",
     "text": [
      "0.2\n",
      "0.3\n",
      "0.4\n",
      "0.5\n",
      "0.6\n",
      "0.7\n",
      "0.8\n",
      "0.9\n",
      "0.479319667079\n",
      "0.520888409062\n",
      "0.399051472047\n",
      "0.391536164622\n",
      "0.533724175758\n",
      "1.18349600719\n",
      "2.43456627518\n",
      "4.53484228904\n"
     ]
    },
    {
     "data": {
      "text/plain": [
       "<matplotlib.text.Text at 0x989ee48>"
      ]
     },
     "execution_count": 69,
     "metadata": {},
     "output_type": "execute_result"
    },
    {
     "data": {
      "image/png": "[encoded data removed]",
      "text/plain": [
       "<matplotlib.figure.Figure at 0x981b160>"
      ]
     },
     "metadata": {},
     "output_type": "display_data"
    },
    {
     "data": {
      "image/png": "[encoded data removed]",
      "text/plain": [
       "<matplotlib.figure.Figure at 0x9869eb8>"
      ]
     },
     "metadata": {},
     "output_type": "display_data"
    }
   ],
   "source": [
    "xaxis2 = numpy.zeros((8,1))\n",
    "yaxis2 = numpy.zeros((8,1))\n",
    "\n",
    "for i in range(0,8):\n",
    "    print(a2[5*i])\n",
    "    xaxis2[i,0] = a2[5*i]\n",
    "\n",
    "for i in range(0,8):\n",
    "    print(numpy.mean(e2[(5*i):(5+5*i)]))\n",
    "    yaxis2[i,0] = numpy.mean(e2[(5*i):(5+5*i)])\n",
    "\n",
    "plt.figure(1)\n",
    "plt.plot(xaxis,yaxis, label='pressure')\n",
    "plt.xlabel('Density (rho)')\n",
    "plt.ylabel('Compression factor (P/(kT))')\n",
    "plt.title('Temp=0,8')\n",
    "plt.figure(2)\n",
    "plt.plot(xaxis2,yaxis2, label='pressure')\n",
    "plt.xlabel('Density (rho)')\n",
    "plt.ylabel('Compression factor (P/(kT))')\n",
    "plt.title('Temp=1,35')\n"
   ]
  },
  {
   "cell_type": "code",
   "execution_count": null,
   "metadata": {
    "collapsed": true
   },
   "outputs": [],
   "source": []
  },
  {
   "cell_type": "code",
   "execution_count": 41,
   "metadata": {
    "collapsed": false
   },
   "outputs": [
    {
     "name": "stdout",
     "output_type": "stream",
     "text": [
      "(3, 400)\n"
     ]
    }
   ],
   "source": [
    "print(diffa.shape)\n",
    "\n",
    "plt.figure(1)\n",
    "plt.plot(range(0,len(diffa[0])),diffa[1,0:len(diffa[0])])\n",
    "plt.show()"
   ]
  },
  {
   "cell_type": "code",
   "execution_count": 72,
   "metadata": {
    "collapsed": false
   },
   "outputs": [
    {
     "name": "stdout",
     "output_type": "stream",
     "text": [
      "[ 0.1  0.2  0.3  0.4  0.5  0.6  0.7  0.8  0.9]\n"
     ]
    }
   ],
   "source": [
    "rhos = numpy.array(range(1,10,1))/10\n",
    "print(rhos)"
   ]
  },
  {
   "cell_type": "code",
   "execution_count": null,
   "metadata": {
    "collapsed": true
   },
   "outputs": [],
   "source": []
  }
 ],
 "metadata": {
  "kernelspec": {
   "display_name": "Python 3",
   "language": "python",
   "name": "python3"
  },
  "language_info": {
   "codemirror_mode": {
    "name": "ipython",
    "version": 3
   },
   "file_extension": ".py",
   "mimetype": "text/x-python",
   "name": "python",
   "nbconvert_exporter": "python",
   "pygments_lexer": "ipython3",
   "version": "3.5.1"
  }
 },
 "nbformat": 4,
 "nbformat_minor": 0
}
